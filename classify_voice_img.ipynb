{
 "cells": [
  {
   "cell_type": "code",
   "execution_count": 17,
   "metadata": {},
   "outputs": [],
   "source": [
    "import os\n",
    "import sys\n",
    "import numpy as np\n",
    "import pandas as pd\n",
    "%matplotlib inline\n",
    "import matplotlib.pyplot as plt\n",
    "from matplotlib.pyplot import specgram\n",
    "\n",
    "import librosa\n",
    "import librosa.display\n",
    "from IPython.display import Audio\n",
    "\n",
    "from sklearn.model_selection import train_test_split\n",
    "from sklearn.preprocessing import LabelEncoder\n",
    "from sklearn.metrics import classification_report\n",
    "\n",
    "import tensorflow as tf\n",
    "import tensorflow.keras\n",
    "from tensorflow.keras import layers\n",
    "from tensorflow.keras.models import Sequential, load_model\n",
    "from tensorflow.keras.layers import Conv1D, MaxPooling1D, AveragePooling1D\n",
    "from tensorflow.keras.layers import Input, Flatten, Dropout, Activation, BatchNormalization, Dense\n",
    "from tensorflow.keras.callbacks import EarlyStopping, ModelCheckpoint\n",
    "from keras.preprocessing import image\n",
    "from tensorflow.keras.utils import to_categorical\n",
    "from tensorflow.keras.regularizers import l2"
   ]
  },
  {
   "cell_type": "code",
   "execution_count": 3,
   "metadata": {},
   "outputs": [],
   "source": [
    "devdata = []\n",
    "data_folder = './datasets/audio_data/out/'\n",
    "labels = []\n",
    "\n",
    "for f in os.listdir(data_folder):\n",
    "    if(f.endswith(\".jpeg\")):\n",
    "      image=tf.keras.preprocessing.image.load_img(data_folder + f, color_mode='rgb')\n",
    "      image=np.array(image)\n",
    "      devdata.append(image)\n",
    "      part = f.split('-')\n",
    "      labels.append(int(part[2]))"
   ]
  },
  {
   "cell_type": "code",
   "execution_count": 4,
   "metadata": {},
   "outputs": [],
   "source": [
    "X_train, X_test, y_train, y_test = train_test_split(devdata, labels, test_size=0.3,random_state=22, stratify=labels)"
   ]
  },
  {
   "cell_type": "code",
   "execution_count": 5,
   "metadata": {},
   "outputs": [
    {
     "data": {
      "text/plain": [
       "array([36, 11, 77], dtype=uint8)"
      ]
     },
     "execution_count": 5,
     "metadata": {},
     "output_type": "execute_result"
    }
   ],
   "source": [
    "X_train[0][100][100]"
   ]
  },
  {
   "cell_type": "code",
   "execution_count": 6,
   "metadata": {},
   "outputs": [
    {
     "data": {
      "text/plain": [
       "array([-0.91431043, -1.1401532 , -0.54392828])"
      ]
     },
     "execution_count": 6,
     "metadata": {},
     "output_type": "execute_result"
    }
   ],
   "source": [
    "#Normalize inputs\n",
    "mean = np.mean(X_train)\n",
    "std = np.std(X_train)\n",
    "X_train = (X_train - mean)/std\n",
    "X_test = (X_test - mean)/std\n",
    "X_train[0][100][100]"
   ]
  },
  {
   "cell_type": "code",
   "execution_count": 7,
   "metadata": {},
   "outputs": [],
   "source": [
    "X_train = np.array(X_train)\n",
    "y_train = np.array(y_train)\n",
    "X_test = np.array(X_test)\n",
    "y_test = np.array(y_test)"
   ]
  },
  {
   "cell_type": "code",
   "execution_count": 8,
   "metadata": {},
   "outputs": [
    {
     "data": {
      "text/plain": [
       "array([-0.91431043, -1.1401532 , -0.54392828])"
      ]
     },
     "execution_count": 8,
     "metadata": {},
     "output_type": "execute_result"
    }
   ],
   "source": [
    "X_train[0][100][100]"
   ]
  },
  {
   "cell_type": "code",
   "execution_count": 9,
   "metadata": {},
   "outputs": [
    {
     "name": "stdout",
     "output_type": "stream",
     "text": [
      "[[0. 0. 1. 0. 0. 0. 0. 0.]\n",
      " [1. 0. 0. 0. 0. 0. 0. 0.]\n",
      " [1. 0. 0. 0. 0. 0. 0. 0.]\n",
      " [0. 0. 0. 0. 0. 0. 0. 1.]\n",
      " [1. 0. 0. 0. 0. 0. 0. 0.]\n",
      " [1. 0. 0. 0. 0. 0. 0. 0.]\n",
      " [1. 0. 0. 0. 0. 0. 0. 0.]\n",
      " [1. 0. 0. 0. 0. 0. 0. 0.]\n",
      " [1. 0. 0. 0. 0. 0. 0. 0.]\n",
      " [1. 0. 0. 0. 0. 0. 0. 0.]]\n"
     ]
    }
   ],
   "source": [
    "#One hot encoding\n",
    "lb = LabelEncoder()\n",
    "y_train = to_categorical(lb.fit_transform(y_train))\n",
    "y_test = to_categorical(lb.fit_transform(y_test))\n",
    "\n",
    "print(y_test[0:10])"
   ]
  },
  {
   "cell_type": "code",
   "execution_count": 10,
   "metadata": {},
   "outputs": [
    {
     "name": "stdout",
     "output_type": "stream",
     "text": [
      "[1 2 3 4 5 6 7 8]\n"
     ]
    }
   ],
   "source": [
    "print(lb.classes_)"
   ]
  },
  {
   "cell_type": "code",
   "execution_count": 37,
   "metadata": {},
   "outputs": [
    {
     "data": {
      "text/plain": [
       "(288, 432, 3)"
      ]
     },
     "execution_count": 37,
     "metadata": {},
     "output_type": "execute_result"
    }
   ],
   "source": [
    "X_train[10].shape"
   ]
  },
  {
   "cell_type": "code",
   "execution_count": 38,
   "metadata": {},
   "outputs": [
    {
     "name": "stdout",
     "output_type": "stream",
     "text": [
      "Model: \"sequential_12\"\n",
      "_________________________________________________________________\n",
      "Layer (type)                 Output Shape              Param #   \n",
      "=================================================================\n",
      "conv2d_30 (Conv2D)           (None, 288, 432, 16)      2368      \n",
      "_________________________________________________________________\n",
      "max_pooling2d_20 (MaxPooling (None, 72, 108, 16)       0         \n",
      "_________________________________________________________________\n",
      "conv2d_31 (Conv2D)           (None, 72, 108, 256)      37120     \n",
      "_________________________________________________________________\n",
      "conv2d_32 (Conv2D)           (None, 72, 108, 256)      590080    \n",
      "_________________________________________________________________\n",
      "max_pooling2d_21 (MaxPooling (None, 36, 54, 256)       0         \n",
      "_________________________________________________________________\n",
      "conv2d_33 (Conv2D)           (None, 36, 54, 256)       590080    \n",
      "_________________________________________________________________\n",
      "conv2d_34 (Conv2D)           (None, 36, 54, 256)       590080    \n",
      "_________________________________________________________________\n",
      "max_pooling2d_22 (MaxPooling (None, 18, 27, 256)       0         \n",
      "_________________________________________________________________\n",
      "flatten_9 (Flatten)          (None, 124416)            0         \n",
      "_________________________________________________________________\n",
      "dense_24 (Dense)             (None, 128)               15925376  \n",
      "_________________________________________________________________\n",
      "dropout_18 (Dropout)         (None, 128)               0         \n",
      "_________________________________________________________________\n",
      "dense_25 (Dense)             (None, 64)                8256      \n",
      "_________________________________________________________________\n",
      "dropout_19 (Dropout)         (None, 64)                0         \n",
      "_________________________________________________________________\n",
      "dense_26 (Dense)             (None, 8)                 520       \n",
      "=================================================================\n",
      "Total params: 17,743,880\n",
      "Trainable params: 17,743,880\n",
      "Non-trainable params: 0\n",
      "_________________________________________________________________\n"
     ]
    }
   ],
   "source": [
    "model = tf.keras.Sequential()\n",
    "model.add(layers.Conv2D(16, 7, activation=\"relu\", padding=\"same\",\n",
    "                       input_shape=[288,432,3]))\n",
    "model.add(layers.MaxPooling2D(pool_size=(2)))\n",
    "model.add(layers.Conv2D(256, 3, activation=\"relu\", padding=\"same\"))\n",
    "model.add(layers.Conv2D(256, 3, activation=\"relu\", padding=\"same\"))\n",
    "model.add(layers.MaxPooling2D(2))\n",
    "model.add(layers.Conv2D(256, 3, activation=\"relu\", padding=\"same\"))\n",
    "model.add(layers.Conv2D(256, 3, activation=\"relu\", padding=\"same\"))\n",
    "model.add(layers.MaxPooling2D(2))\n",
    "model.add(layers.Flatten())\n",
    "model.add(layers.Dense(128, activation=\"relu\"))\n",
    "model.add(layers.Dropout(0.5))\n",
    "model.add(layers.Dense(64, activation=\"relu\"))\n",
    "model.add(layers.Dropout(0.5))\n",
    "model.add(layers.Dense(8, activation=\"sigmoid\"))\n",
    "\n",
    "opt = tf.keras.optimizers.Adam(lr=0.001)\n",
    "model.compile(loss='categorical_crossentropy', optimizer=opt,metrics=['accuracy'])\n",
    "model.summary()"
   ]
  },
  {
   "cell_type": "code",
   "execution_count": null,
   "metadata": {},
   "outputs": [
    {
     "name": "stdout",
     "output_type": "stream",
     "text": [
      "WARNING:tensorflow:`period` argument is deprecated. Please use `save_freq` to specify the frequency in number of batches seen.\n",
      "Epoch 1/10\n",
      "4/4 [==============================] - 69s 17s/step - loss: 1.4565 - accuracy: 0.5810 - val_loss: 1.1683 - val_accuracy: 0.6667\n",
      "\n",
      "Epoch 00001: val_accuracy improved from -inf to 0.66667, saving model to champion_model.hdf5\n",
      "Epoch 2/10\n",
      "4/4 [==============================] - 78s 19s/step - loss: 1.3024 - accuracy: 0.6095 - val_loss: 1.1507 - val_accuracy: 0.6667\n",
      "\n",
      "Epoch 00002: val_accuracy did not improve from 0.66667\n",
      "Epoch 3/10\n",
      "4/4 [==============================] - 79s 19s/step - loss: 1.2641 - accuracy: 0.6381 - val_loss: 1.1423 - val_accuracy: 0.6667\n",
      "\n",
      "Epoch 00003: val_accuracy did not improve from 0.66667\n",
      "Epoch 4/10\n",
      "4/4 [==============================] - 74s 18s/step - loss: 1.2624 - accuracy: 0.6000 - val_loss: 1.1341 - val_accuracy: 0.6667\n",
      "\n",
      "Epoch 00004: val_accuracy did not improve from 0.66667\n",
      "Epoch 5/10\n",
      "4/4 [==============================] - 80s 20s/step - loss: 1.2742 - accuracy: 0.6286 - val_loss: 1.1791 - val_accuracy: 0.6667\n",
      "\n",
      "Epoch 00005: val_accuracy did not improve from 0.66667\n",
      "Epoch 6/10\n",
      "4/4 [==============================] - 82s 20s/step - loss: 1.1380 - accuracy: 0.6190 - val_loss: 1.1624 - val_accuracy: 0.6667\n",
      "\n",
      "Epoch 00006: val_accuracy did not improve from 0.66667\n",
      "Epoch 7/10\n",
      "4/4 [==============================] - 82s 20s/step - loss: 1.1789 - accuracy: 0.6667 - val_loss: 1.1138 - val_accuracy: 0.6667\n",
      "\n",
      "Epoch 00007: val_accuracy did not improve from 0.66667\n",
      "Epoch 8/10\n",
      "1/4 [======>.......................] - ETA: 1:09 - loss: 1.2616 - accuracy: 0.5938"
     ]
    }
   ],
   "source": [
    "checkpoint = ModelCheckpoint(\"champion_model.hdf5\", monitor='val_accuracy', verbose=1,\n",
    "    save_best_only=True, mode='max', period=1, save_weights_only=True)\n",
    "\n",
    "model_history=model.fit(X_train, y_train,batch_size=32, epochs=10, validation_data=(X_test, y_test),callbacks=[checkpoint])"
   ]
  },
  {
   "cell_type": "code",
   "execution_count": null,
   "metadata": {},
   "outputs": [],
   "source": []
  }
 ],
 "metadata": {
  "kernelspec": {
   "display_name": "Python 3",
   "language": "python",
   "name": "python3"
  },
  "language_info": {
   "codemirror_mode": {
    "name": "ipython",
    "version": 3
   },
   "file_extension": ".py",
   "mimetype": "text/x-python",
   "name": "python",
   "nbconvert_exporter": "python",
   "pygments_lexer": "ipython3",
   "version": "3.8.5"
  }
 },
 "nbformat": 4,
 "nbformat_minor": 4
}
